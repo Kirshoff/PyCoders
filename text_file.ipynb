{
 "cells": [
  {
   "cell_type": "markdown",
   "id": "differential-model",
   "metadata": {},
   "source": [
    "Kaynak:\n",
    "https://www.youtube.com/watch?v=g-tm5iMqzU8&list=PLtTs2BKyiS4C0KLmXx-3k4ho5tfW3Gs5C&index=27"
   ]
  },
  {
   "cell_type": "markdown",
   "id": "controlled-bosnia",
   "metadata": {},
   "source": [
    "# write()"
   ]
  },
  {
   "cell_type": "markdown",
   "id": "still-wayne",
   "metadata": {},
   "source": [
    "* 'w' : belirtilen isimde dosya varsa onu siler, ayni isimde bos dosya olusturur.\n",
    "* write metoduna verilen string argumanini dosyaya yazar\n",
    "* close ile dosya kapatilir.\n",
    "* 'w' modunda acilan bir dosyaya ancak yeni veriler yazilabilir."
   ]
  },
  {
   "cell_type": "code",
   "execution_count": 3,
   "id": "sublime-flash",
   "metadata": {},
   "outputs": [],
   "source": [
    "file = open ('deneme.txt','w')\n",
    "file.write('hello world')\n",
    "file.close()"
   ]
  },
  {
   "cell_type": "markdown",
   "id": "sixth-alcohol",
   "metadata": {},
   "source": [
    "* dosyaya yazdirilacak metinde turkce karakter kulanilacaksa `encoding=\"utf-8\"` kullaniir.\n",
    "* Aksi hade turkce karakterer yerine anlamsiz semboller yazdirir veya hata verir.\n",
    "* Alt satira gecmek icin 'end of line' kullanilir, yani '\\n' ile yeni satira geciir."
   ]
  },
  {
   "cell_type": "code",
   "execution_count": 4,
   "id": "contained-beverage",
   "metadata": {},
   "outputs": [],
   "source": [
    "file = open ('deneme.txt','w',encoding=\"utf-8\")\n",
    "file.write('At ölür\\n')\n",
    "file.write('Meydan kalır\\n') \n",
    "file.write('Yiğit ölür\\n')\n",
    "file.write('Şan kalır\\n')\n",
    "file.close()"
   ]
  },
  {
   "cell_type": "markdown",
   "id": "endless-juvenile",
   "metadata": {},
   "source": [
    "# writelines()"
   ]
  },
  {
   "cell_type": "markdown",
   "id": "constitutional-insulation",
   "metadata": {},
   "source": [
    "* Stringlerden olusan listeyi yazdirmak icin `writelines()` metodu kullanilir."
   ]
  },
  {
   "cell_type": "code",
   "execution_count": 5,
   "id": "saving-venice",
   "metadata": {},
   "outputs": [],
   "source": [
    "file = open ('deneme.txt','w',encoding=\"utf-8\")\n",
    "liste = ['Hakkıdır,\\n',\n",
    "         'Hakk’a tapan\\n',\n",
    "         'milletimin istiklâl.\\n']\n",
    "file.writelines(liste)\n",
    "file.close()"
   ]
  },
  {
   "cell_type": "markdown",
   "id": "intense-rainbow",
   "metadata": {},
   "source": [
    "* `with open` ile object olusturulursa `close()` metodu kullanilmaz.\n",
    "* Bu kullanim close() un unutumasi riskini ortadan kaldirdigi icin daha efektif bir cozumdur."
   ]
  },
  {
   "cell_type": "code",
   "execution_count": 6,
   "id": "vocal-union",
   "metadata": {},
   "outputs": [],
   "source": [
    "with open ('deneme.txt','w',encoding=\"utf-8\") as file:\n",
    "    liste = ['Kim bilir,\\n',\n",
    "             'belki yarın…\\n',\n",
    "             'belki yarından da yakın.\\n']\n",
    "    file.writelines(liste)"
   ]
  },
  {
   "cell_type": "markdown",
   "id": "loved-bandwidth",
   "metadata": {},
   "source": [
    "# read()"
   ]
  },
  {
   "cell_type": "markdown",
   "id": "social-ethnic",
   "metadata": {},
   "source": [
    "* 'r' modunda dosya acildiginda mevcut bir dosyada calisilir\n",
    "* eger o isimde dosya yoksa hata verir\n",
    "* read() metodu ile adilan dosya okunur ve string dondurur."
   ]
  },
  {
   "cell_type": "code",
   "execution_count": 7,
   "id": "verified-column",
   "metadata": {},
   "outputs": [],
   "source": [
    "with open ('deneme.txt','w') as file:\n",
    "    file.write('python')"
   ]
  },
  {
   "cell_type": "code",
   "execution_count": 8,
   "id": "inappropriate-triangle",
   "metadata": {},
   "outputs": [
    {
     "name": "stdout",
     "output_type": "stream",
     "text": [
      "python\n"
     ]
    }
   ],
   "source": [
    "with open ('deneme.txt','r') as file:\n",
    "    print(file.read())"
   ]
  },
  {
   "cell_type": "markdown",
   "id": "pregnant-humor",
   "metadata": {},
   "source": [
    "* file modu belirtilmediginde default olarak 'r' modunda object olusturulur.\n",
    "* read() metodu icine sayi vererek kac karakter okumasi gerektigini verebiliriz."
   ]
  },
  {
   "cell_type": "code",
   "execution_count": 9,
   "id": "vocational-questionnaire",
   "metadata": {},
   "outputs": [],
   "source": [
    "with open ('deneme.txt','w') as file:\n",
    "    file.write('Python\\nis\\nawesome.')"
   ]
  },
  {
   "cell_type": "code",
   "execution_count": 10,
   "id": "false-fellow",
   "metadata": {
    "scrolled": true
   },
   "outputs": [
    {
     "name": "stdout",
     "output_type": "stream",
     "text": [
      "Python\n"
     ]
    }
   ],
   "source": [
    "with open ('deneme.txt') as file:\n",
    "    print(file.read(6))"
   ]
  },
  {
   "cell_type": "markdown",
   "id": "armed-friday",
   "metadata": {},
   "source": [
    "# readline()"
   ]
  },
  {
   "cell_type": "markdown",
   "id": "drawn-circulation",
   "metadata": {},
   "source": [
    "* readline() metodu imlecin kaldigi yerdeki satiri okur.\n",
    "* dosya icindeki 'end of line' (\\n) ile print() in default atadigi '\\n' dan dolayi satir aralarinda bosluk olusur. Print() icinde end='' yapilarak bosluk olmasi engellenir."
   ]
  },
  {
   "cell_type": "code",
   "execution_count": 11,
   "id": "ongoing-alias",
   "metadata": {},
   "outputs": [],
   "source": [
    "with open ('deneme.txt','w',encoding=\"utf-8\") as file:\n",
    "    liste = ['Dalgalan sen de şafaklar gibi ey şanlı hilâl;\\n',\n",
    "             'Olsun artık dökülen kanlarımın hepsi helâl.\\n',\n",
    "             'Ebediyen sana yok, ırkıma yok izmihlâl:\\n',\n",
    "             'Hakkıdır, hür yaşamış bayrağımın hürriyet;\\n',\n",
    "             'Hakkıdır, Hakk’a tapan milletimin istiklâl!\\n']\n",
    "\n",
    "    file.writelines(liste)"
   ]
  },
  {
   "cell_type": "code",
   "execution_count": 12,
   "id": "described-delhi",
   "metadata": {
    "scrolled": false
   },
   "outputs": [
    {
     "name": "stdout",
     "output_type": "stream",
     "text": [
      "Dalgalan sen de şafaklar gibi ey şanlı hilâl;\n",
      "Olsun artık dökülen kanlarımın hepsi helâl.\n",
      "Ebediyen sana yok, ırkıma yok izmihlâl:\n",
      "Hakkıdır, hür yaşamış bayrağımın hürriyet;\n",
      "Hakkıdır, Hakk’a tapan milletimin istiklâl!\n",
      "\n"
     ]
    }
   ],
   "source": [
    "with open ('deneme.txt',encoding=\"utf-8\") as file:\n",
    "    print(file.read())"
   ]
  },
  {
   "cell_type": "code",
   "execution_count": 13,
   "id": "hundred-offense",
   "metadata": {
    "scrolled": true
   },
   "outputs": [
    {
     "name": "stdout",
     "output_type": "stream",
     "text": [
      "Dalgalan sen de şafaklar gibi ey şanlı hilâl;\n",
      "\n",
      "Olsun artık dökülen kanlarımın hepsi helâl.\n",
      "\n",
      "Ebediyen sana yok, ırkıma yok izmihlâl:\n",
      "\n",
      "Hakkıdır, hür yaşamış bayrağımın hürriyet;\n",
      "\n",
      "Hakkıdır, Hakk’a tapan milletimin istiklâl!\n",
      "\n"
     ]
    }
   ],
   "source": [
    "with open ('deneme.txt',encoding=\"utf-8\") as file:\n",
    "    print(file.readline())\n",
    "    print(file.readline())\n",
    "    print(file.readline())\n",
    "    print(file.readline())\n",
    "    print(file.readline())"
   ]
  },
  {
   "cell_type": "code",
   "execution_count": 14,
   "id": "accredited-lighter",
   "metadata": {},
   "outputs": [
    {
     "name": "stdout",
     "output_type": "stream",
     "text": [
      "Dalgalan sen de şafaklar gibi ey şanlı hilâl;\n",
      "Olsun artık dökülen kanlarımın hepsi helâl.\n",
      "Ebediyen sana yok, ırkıma yok izmihlâl:\n",
      "Hakkıdır, hür yaşamış bayrağımın hürriyet;\n",
      "Hakkıdır, Hakk’a tapan milletimin istiklâl!\n"
     ]
    }
   ],
   "source": [
    "with open ('deneme.txt',encoding=\"utf-8\") as file:\n",
    "    print(file.readline(),end='')\n",
    "    print(file.readline(),end='')\n",
    "    print(file.readline(),end='')\n",
    "    print(file.readline(),end='')\n",
    "    print(file.readline(),end='')"
   ]
  },
  {
   "cell_type": "markdown",
   "id": "corresponding-vintage",
   "metadata": {},
   "source": [
    "# readlines()"
   ]
  },
  {
   "cell_type": "markdown",
   "id": "diverse-keeping",
   "metadata": {},
   "source": [
    "* readlines() metodu metni satir satir okuyup liste dondurur."
   ]
  },
  {
   "cell_type": "code",
   "execution_count": 15,
   "id": "southeast-fellowship",
   "metadata": {},
   "outputs": [],
   "source": [
    "with open ('deneme.txt','w',encoding=\"utf-8\") as file:\n",
    "    liste = ['Dalgalan sen de şafaklar gibi ey şanlı hilâl;\\n',\n",
    "             'Olsun artık dökülen kanlarımın hepsi helâl.\\n',\n",
    "             'Ebediyen sana yok, ırkıma yok izmihlâl:\\n',\n",
    "             'Hakkıdır, hür yaşamış bayrağımın hürriyet;\\n',\n",
    "             'Hakkıdır, Hakk’a tapan milletimin istiklâl!\\n']\n",
    "\n",
    "    file.writelines(liste)"
   ]
  },
  {
   "cell_type": "code",
   "execution_count": 16,
   "id": "collected-extraction",
   "metadata": {},
   "outputs": [
    {
     "name": "stdout",
     "output_type": "stream",
     "text": [
      "['Dalgalan sen de şafaklar gibi ey şanlı hilâl;\\n', 'Olsun artık dökülen kanlarımın hepsi helâl.\\n', 'Ebediyen sana yok, ırkıma yok izmihlâl:\\n', 'Hakkıdır, hür yaşamış bayrağımın hürriyet;\\n', 'Hakkıdır, Hakk’a tapan milletimin istiklâl!\\n']\n"
     ]
    }
   ],
   "source": [
    "with open ('deneme.txt',encoding=\"utf-8\") as file:\n",
    "    print(file.readlines())"
   ]
  },
  {
   "cell_type": "code",
   "execution_count": 17,
   "id": "surprised-afternoon",
   "metadata": {},
   "outputs": [
    {
     "name": "stdout",
     "output_type": "stream",
     "text": [
      "Dalgalan sen de şafaklar gibi ey şanlı hilâl;\n",
      " Olsun artık dökülen kanlarımın hepsi helâl.\n",
      " Ebediyen sana yok, ırkıma yok izmihlâl:\n",
      " Hakkıdır, hür yaşamış bayrağımın hürriyet;\n",
      " Hakkıdır, Hakk’a tapan milletimin istiklâl!\n",
      "\n"
     ]
    }
   ],
   "source": [
    "with open ('deneme.txt',encoding=\"utf-8\") as file:\n",
    "    print(*file.readlines())"
   ]
  },
  {
   "cell_type": "code",
   "execution_count": 18,
   "id": "according-installation",
   "metadata": {
    "scrolled": true
   },
   "outputs": [
    {
     "name": "stdout",
     "output_type": "stream",
     "text": [
      "Dalgalan sen de şafaklar gibi ey şanlı hilâl;\n",
      "Olsun artık dökülen kanlarımın hepsi helâl.\n",
      "Ebediyen sana yok, ırkıma yok izmihlâl:\n",
      "Hakkıdır, hür yaşamış bayrağımın hürriyet;\n",
      "Hakkıdır, Hakk’a tapan milletimin istiklâl!\n"
     ]
    }
   ],
   "source": [
    "with open ('deneme.txt',encoding=\"utf-8\") as file:\n",
    "    for line in file.readlines():\n",
    "        print(line,end='')"
   ]
  },
  {
   "cell_type": "markdown",
   "id": "african-median",
   "metadata": {},
   "source": [
    "**dosyayi for ile satir satir okuma isini direkt olarak file objectinden yapabiliriz. readlines() kullanmak zorunda degiliz.**"
   ]
  },
  {
   "cell_type": "code",
   "execution_count": 19,
   "id": "photographic-suite",
   "metadata": {},
   "outputs": [
    {
     "name": "stdout",
     "output_type": "stream",
     "text": [
      "Dalgalan sen de şafaklar gibi ey şanlı hilâl;\n",
      "Olsun artık dökülen kanlarımın hepsi helâl.\n",
      "Ebediyen sana yok, ırkıma yok izmihlâl:\n",
      "Hakkıdır, hür yaşamış bayrağımın hürriyet;\n",
      "Hakkıdır, Hakk’a tapan milletimin istiklâl!\n"
     ]
    }
   ],
   "source": [
    "with open ('deneme.txt',encoding=\"utf-8\") as file:\n",
    "    for line in file:\n",
    "        print(line,end='')"
   ]
  },
  {
   "cell_type": "markdown",
   "id": "comfortable-supplement",
   "metadata": {},
   "source": [
    "# seek(), 'a', 'a+'"
   ]
  },
  {
   "cell_type": "markdown",
   "id": "variable-melissa",
   "metadata": {},
   "source": [
    "* 'r+' : mevcut dosyayi hem okuyabilmek hemde icine ekleme yapmak icin kullanilir, eger o isimde dosya yoksa hata verir. Eklemeyi imlecin oldugu yere yapar. ilk etapta imlec her zaman dosyanin basindadir.\n",
    "\n",
    "* 'w+' : yeni bir dosyayi hem okuyabilmek hemde icine ekleme yapmak icin kullanilir, eger o isimde dosya varsa onu silip, bos dosya acar. Eklemeyi imlecin oldugu yere yapar. ilk etapta imlec her zaman dosyanin basindadir.\n",
    "\n",
    "* 'a' : mevcut dosya icine ekleme yapmak icin kullanilir, eger o isimde dosya yoksa  o dosyayi olusturur. Eklemeyi herzaman dosyanin sonuna yapar.\n",
    "\n",
    "* 'a+' : mevcut dosyayi hem okuyabilmek hemde icine ekleme yapmak icin kullanilir, eger o isimde dosya yoksa  o dosyayi olusturur. \n",
    "    * Eklemeyi herzaman dosyanin sonuna yapar. \n",
    "    * Okumayi imlecin kaldigi yerden itibaren yapar, imlec default olarak dosyanin sonunda olur.\n",
    "    * seek() ile imnleci tasiriz, mesela seek(0), imleci dosya basina tasir. "
   ]
  },
  {
   "cell_type": "code",
   "execution_count": 20,
   "id": "rising-defensive",
   "metadata": {},
   "outputs": [
    {
     "name": "stdout",
     "output_type": "stream",
     "text": [
      "Dalgalan sen de şafaklar gibi ey şanlı hilâl;\n",
      "Olsun artık dökülen kanlarımın hepsi helâl.\n",
      "Ebediyen sana yok, ırkıma yok izmihlâl:\n",
      "Hakkıdır, hür yaşamış bayrağımın hürriyet;\n",
      "Hakkıdır, Hakk’a tapan milletimin istiklâl!\n",
      "\n",
      "Mehmet Akif Ersoy"
     ]
    }
   ],
   "source": [
    "with open ('deneme.txt','a+',encoding=\"utf-8\") as file:\n",
    "    file.write('\\nMehmet Akif Ersoy')\n",
    "    file.seek(0)\n",
    "    for line in file:\n",
    "        print(line, end='')"
   ]
  },
  {
   "cell_type": "markdown",
   "id": "received-fever",
   "metadata": {},
   "source": [
    "# name atrribute"
   ]
  },
  {
   "cell_type": "markdown",
   "id": "given-companion",
   "metadata": {},
   "source": [
    "* open class inda olusturdugumuz file object inin adina name ile erisiriz."
   ]
  },
  {
   "cell_type": "code",
   "execution_count": 21,
   "id": "junior-examination",
   "metadata": {},
   "outputs": [
    {
     "name": "stdout",
     "output_type": "stream",
     "text": [
      "Dosya adi: deneme.txt\n"
     ]
    }
   ],
   "source": [
    "with open ('deneme.txt',encoding=\"utf-8\") as file:\n",
    "    print(f'Dosya adi: {file.name}')"
   ]
  },
  {
   "cell_type": "markdown",
   "id": "cellular-penguin",
   "metadata": {},
   "source": [
    "**istiklal_marşı.txt dosyasini okutup her satiri tersten baska bir dosyaya yazdiralim**"
   ]
  },
  {
   "cell_type": "code",
   "execution_count": 32,
   "id": "latest-vacation",
   "metadata": {
    "scrolled": false
   },
   "outputs": [
    {
     "name": "stdout",
     "output_type": "stream",
     "text": [
      "İSTİKLÂL MARŞI\n",
      "\n",
      "Korkma, sönmez bu şafaklarda yüzen al sancak;\n",
      "Sönmeden yurdumun üstünde tüten en son ocak.\n",
      "O benim milletimin yıldızıdır, parlayacak;\n",
      "O benimdir, o benim milletimindir ancak.\n",
      "\n",
      "Çatma, kurban olayım çehreni ey nazlı hilâl!\n",
      "Kahraman ırkıma bir gül… ne bu şiddet bu celâl?\n",
      "Sana olmaz dökülen kanlarımız sonra helâl,\n",
      "Hakkıdır, Hakk’a tapan, milletimin istiklâl.\n",
      "\n",
      "MEHMET AKİF ERSOY"
     ]
    }
   ],
   "source": [
    "with open('istiklal_marşı.txt','r',encoding=\"utf-8\") as file:\n",
    "    text = file.readlines()\n",
    "    print(*text,sep='',end='')"
   ]
  },
  {
   "cell_type": "code",
   "execution_count": 33,
   "id": "iraqi-laptop",
   "metadata": {
    "scrolled": true
   },
   "outputs": [
    {
     "name": "stdout",
     "output_type": "stream",
     "text": [
      "\n",
      "IŞRAM LÂLKİTSİ\n",
      "\n",
      ";kacnas la nezüy adralkafaş ub zemnös ,amkroK\n",
      ".kaco nos ne netüt ednütsü numudruy nedemnöS\n",
      ";kacayalrap ,rıdızıdlıy nimitellim mineb O\n",
      ".kacna ridnimitellim mineb o ,ridmineb O\n",
      "\n",
      "!lâlih ılzan ye inerheç mıyalo nabruk ,amtaÇ\n",
      "?lâlec ub teddiş ub en …lüg rib amıkrı namarhaK\n",
      ",lâleh arnos zımıralnak nelüköd zamlo anaS\n",
      ".lâlkitsi nimitellim ,napat a’kkaH ,rıdıkkaH\n",
      "YOSRE FİKA TEMHEM"
     ]
    }
   ],
   "source": [
    "with open('istiklal_marşı_ters.txt','w',encoding=\"utf-8\") as file:\n",
    "    for line in text:\n",
    "        print(line[::-1],end='')\n",
    "        file.write(line[::-1])"
   ]
  },
  {
   "cell_type": "markdown",
   "id": "north-newark",
   "metadata": {},
   "source": [
    "> ilk ve son satirda new_line problemi var, bunu asmak icin regex kullanalim"
   ]
  },
  {
   "cell_type": "code",
   "execution_count": 34,
   "id": "spatial-sarah",
   "metadata": {},
   "outputs": [
    {
     "name": "stdout",
     "output_type": "stream",
     "text": [
      "IŞRAM LÂLKİTSİ\n",
      "\n",
      ";kacnas la nezüy adralkafaş ub zemnös ,amkroK\n",
      ".kaco nos ne netüt ednütsü numudruy nedemnöS\n",
      ";kacayalrap ,rıdızıdlıy nimitellim mineb O\n",
      ".kacna ridnimitellim mineb o ,ridmineb O\n",
      "\n",
      "!lâlih ılzan ye inerheç mıyalo nabruk ,amtaÇ\n",
      "?lâlec ub teddiş ub en …lüg rib amıkrı namarhaK\n",
      ",lâleh arnos zımıralnak nelüköd zamlo anaS\n",
      ".lâlkitsi nimitellim ,napat a’kkaH ,rıdıkkaH\n",
      "\n",
      "YOSRE FİKA TEMHEM\n",
      "\n"
     ]
    }
   ],
   "source": [
    "import re\n",
    "with open('istiklal_marşı_ters.txt','w+',encoding=\"utf-8\") as file:\n",
    "    text_reversed=[]\n",
    "    for line in text:  \n",
    "        text_reversed.append(re.sub('\\n','',line[::-1])+'\\n')\n",
    "    file.writelines(text_reversed) \n",
    "    file.seek(0)\n",
    "    print(file.read())"
   ]
  },
  {
   "cell_type": "markdown",
   "id": "robust-naples",
   "metadata": {},
   "source": [
    "**Kulanicinin ismini girdigi metin dosyasinin satir sayisi, kelime sayisi ve en uzun kelime uzunugunu bulan programi yazalim**"
   ]
  },
  {
   "cell_type": "code",
   "execution_count": 35,
   "id": "nutritional-theology",
   "metadata": {},
   "outputs": [
    {
     "name": "stdout",
     "output_type": "stream",
     "text": [
      "Number of lines\t\t: 13\n",
      "Number of words\t\t: 60\n",
      "The longest of word\t: milletimindir\n",
      "\n"
     ]
    }
   ],
   "source": [
    "# file_name = input('Enter file name:')\n",
    "file_name = 'istiklal_marşı.txt'\n",
    "with open (file_name, 'r',encoding=\"utf-8\") as file:\n",
    "    line_num = len(file.readlines())\n",
    "    \n",
    "    file.seek(0)\n",
    "    words = re.sub('\\n',' ',file.read()).split(' ')\n",
    "#     words = file.read().replace(\"\\n\",\" \").split(' ') # alternative\n",
    "    word_num = len(words)\n",
    "    longest_word = max(words, key= len)\n",
    "#     longest_word = sorted(words, key= lambda x: len(x), reverse=True)[0]  # alternative\n",
    "    \n",
    "    print(f'''Number of lines\\t\\t: {line_num}\n",
    "Number of words\\t\\t: {word_num}\n",
    "The longest of word\\t: {longest_word}\n",
    "''')  "
   ]
  },
  {
   "cell_type": "markdown",
   "id": "collective-certificate",
   "metadata": {},
   "source": [
    "# Example-1\n",
    "* verilen siiri kitalarina ayirip dosyaya yazdiralim.*\n",
    "    * siirdeki karakter sayisi\n",
    "    * kelime sayisi\n",
    "    * satir sayisi\n",
    "    * kita sayisi\n",
    "    * en uzun kelime \n",
    "    * en kisa kelimeyi dondursun\n",
    "    * kitalarina bolup ayni dosyaya siiri ve bilgilerini yazdirsin\n"
   ]
  },
  {
   "cell_type": "code",
   "execution_count": 36,
   "id": "metropolitan-barrier",
   "metadata": {},
   "outputs": [
    {
     "name": "stdout",
     "output_type": "stream",
     "text": [
      "İşte gidiyorum çeşmi siyahım\n",
      "Önümüze dağlar sıralansa da\n",
      "Sermayem derdimdir servetim ahım\n",
      "Karardıkça bahtım karalansa da\n",
      "Haydi dolaşalım yüce dağlarda\n",
      "Dost beni bıraktı ah ile zarda\n",
      "Ötmek istiyorum viran bağlarda\n",
      "Ayağıma cennet kiralansa da\n",
      "Bağladım canımı zülfün teline\n",
      "Sen beni bıraktın elin diline\n",
      "Güldün Mahzuni'nin berbat haline\n",
      "Mervan'ın elinde parelense de\n"
     ]
    }
   ],
   "source": [
    "poetry= \"\"\"İşte gidiyorum çeşmi siyahım\n",
    "Önümüze dağlar sıralansa da\n",
    "Sermayem derdimdir servetim ahım\n",
    "Karardıkça bahtım karalansa da\n",
    "Haydi dolaşalım yüce dağlarda\n",
    "Dost beni bıraktı ah ile zarda\n",
    "Ötmek istiyorum viran bağlarda\n",
    "Ayağıma cennet kiralansa da\n",
    "Bağladım canımı zülfün teline\n",
    "Sen beni bıraktın elin diline\n",
    "Güldün Mahzuni'nin berbat haline\n",
    "Mervan'ın elinde parelense de\"\"\"\n",
    "\n",
    "with open ('poetry.txt', 'w+',encoding=\"utf-8\") as file:\n",
    "    file.write(poetry)\n",
    "    file.seek(0)\n",
    "    print(file.read())"
   ]
  },
  {
   "cell_type": "code",
   "execution_count": 37,
   "id": "pointed-beauty",
   "metadata": {},
   "outputs": [
    {
     "name": "stdout",
     "output_type": "stream",
     "text": [
      "\n",
      "İşte gidiyorum çeşmi siyahım\n",
      "Önümüze dağlar sıralansa da\n",
      "Sermayem derdimdir servetim ahım\n",
      "Karardıkça bahtım karalansa da\n",
      "\n",
      "Haydi dolaşalım yüce dağlarda\n",
      "Dost beni bıraktı ah ile zarda\n",
      "Ötmek istiyorum viran bağlarda\n",
      "Ayağıma cennet kiralansa da\n",
      "\n",
      "Bağladım canımı zülfün teline\n",
      "Sen beni bıraktın elin diline\n",
      "Güldün Mahzuni'nin berbat haline\n",
      "Mervan'ın elinde parelense de\n",
      "\n",
      "POETRY INFO:\n",
      "-----------------\n",
      "Number of lines\t\t: 12\n",
      "Number of words\t\t: 60\n",
      "Number of char\t\t: 363\n",
      "Number of verse\t\t: 3\n",
      "The longest word\t: Mahzuni'nin\n",
      "The shortest word\t: da\n",
      "\n"
     ]
    }
   ],
   "source": [
    "with open ('poetry.txt', 'r',encoding=\"utf-8\") as file:\n",
    "    text = file.read()\n",
    "  \n",
    "    file.seek(0)\n",
    "    line_num = len(file.readlines())\n",
    "\n",
    "    char_num = len(text)\n",
    "    words = re.sub('\\n',' ',text).split(' ')\n",
    "#     words = text.replace(\"\\n\",\" \").split(' ') # alternative\n",
    "    longest_word = max(words, key= len)\n",
    "    shortest_word = min(words, key= len)\n",
    "    verse_num = line_num //4\n",
    "    \n",
    "    info = f'''\\n\\nPOETRY INFO:\\n-----------------\n",
    "Number of lines\\t\\t: {line_num}\n",
    "Number of words\\t\\t: {word_num}\n",
    "Number of char\\t\\t: {char_num}\n",
    "Number of verse\\t\\t: {verse_num}\n",
    "The longest word\\t: {longest_word}\n",
    "The shortest word\\t: {shortest_word}\n",
    "'''\n",
    "    \n",
    "    file.seek(0)\n",
    "    poetry = []\n",
    "    for i,line in enumerate(file):\n",
    "        if i%4 == 0:\n",
    "            poetry.append('\\n')\n",
    "            poetry.append(line)\n",
    "        else:\n",
    "            poetry.append(line)\n",
    "            \n",
    "with open ('poetry.txt', 'w+',encoding=\"utf-8\") as file:\n",
    "        file.writelines(poetry)\n",
    "        file.write(info)\n",
    "        \n",
    "# #         Alternative\n",
    "#         info_list = [('Number of lines',line_num),\n",
    "#             ('Number of words', word_num),\n",
    "#             ('Number of char', char_num),\n",
    "#             ('Number of verse', verse_num),\n",
    "#             ('The longest word', longest_word),\n",
    "#             ('The shortest word', smallest_word)]\n",
    "\n",
    "#         info = ['\\n\\nPOETRY INFO:\\n--------------------'] + [f'\\n{i[0]:<{20}} {i[1]:.>{15}}' for i in info_list]\n",
    "#         file.writelines(info)\n",
    "        \n",
    "        file.seek(0)\n",
    "        print(file.read())"
   ]
  },
  {
   "cell_type": "markdown",
   "id": "round-cheat",
   "metadata": {},
   "source": [
    "# Example-2\n",
    "* yagmur.txt dosyasinin satirlarini readline() ile teker teker okutup:\n",
    "    * satir sayisi\n",
    "    * karakter sayisi\n",
    "    * kelime sayisi\n",
    "    * en uzun kelime\n",
    "    * En sık gecen ilk 10 kelime ve frekansini yazdir.\n",
    "    * dosyada ki 'yagmur' kelimesini 'rahmet' ie degistirip farkli bir dosyaya yazdir."
   ]
  },
  {
   "cell_type": "code",
   "execution_count": 106,
   "id": "disabled-proposal",
   "metadata": {
    "scrolled": true
   },
   "outputs": [
    {
     "name": "stdout",
     "output_type": "stream",
     "text": [
      "\n",
      "\n",
      "INFO:\n",
      "-----------------\n",
      "Number of lines\t\t: 201\n",
      "Number of words\t\t: 865\n",
      "Number of char\t\t: 6110\n",
      "The longest word\t: kundaklarından\n",
      "Word Frequency\t\t: [('bir', 53), ('düştü', 33), ('ben', 23), ('olsaydım', 23), ('da', 14), ('yağmur', 11), ('sana', 8), ('seninle', 8), ('senin', 8), ('ve', 7)]\n"
     ]
    }
   ],
   "source": [
    "with open ('yagmur.txt','r',encoding=\"utf-8\") as file:\n",
    "    char_num=0\n",
    "    word_num=0\n",
    "    line_num=0\n",
    "    longest_word=''\n",
    "    words = []\n",
    "    word_freq=dict()\n",
    "    gap = [1 for _ in range(10)]\n",
    "    punc=\" \\n,.'!:;?\"\n",
    "    \n",
    "    while(sum(gap)>0):\n",
    "        try:\n",
    "            line = file.readline().strip(punc)\n",
    "        except:\n",
    "            print('Early Stop')\n",
    "            break\n",
    "        else:\n",
    "            line_num += 1\n",
    "            char_num += len(line)\n",
    "            word_num += len(line.lower().replace(',','').split(' ')) if line!='' else 0\n",
    "            longest_word = max(line.split(' ')+[longest_word], key=len)\n",
    "            gap.append(len(line))\n",
    "            gap.pop(0)\n",
    "            for i in (line.lower().replace(',','').split(' ') if line!='' else []):\n",
    "                word_freq[i] = word_freq.get(i, 0) + 1\n",
    "    word_freq = sorted(word_freq.items(), key=lambda x:x[1], reverse=True)[:10]\n",
    "    \n",
    "    file.seek(0)\n",
    "    text = file.read()\n",
    "\n",
    "with open ('rahmet.txt','w',encoding=\"utf-8\") as file:\n",
    "    file.write(text.replace('yağmur','rahmet').replace('Yağmur','Rahmet'))\n",
    "    \n",
    "info = f'''\\n\\nINFO:\\n-----------------\n",
    "Number of lines\\t\\t: {line_num}\n",
    "Number of words\\t\\t: {word_num}\n",
    "Number of char\\t\\t: {char_num}\n",
    "The longest word\\t: {longest_word}\n",
    "Word Frequency\\t\\t: {word_freq}'''\n",
    "print(info)"
   ]
  }
 ],
 "metadata": {
  "kernelspec": {
   "display_name": "Python 3",
   "language": "python",
   "name": "python3"
  },
  "language_info": {
   "codemirror_mode": {
    "name": "ipython",
    "version": 3
   },
   "file_extension": ".py",
   "mimetype": "text/x-python",
   "name": "python",
   "nbconvert_exporter": "python",
   "pygments_lexer": "ipython3",
   "version": "3.8.5"
  }
 },
 "nbformat": 4,
 "nbformat_minor": 5
}
