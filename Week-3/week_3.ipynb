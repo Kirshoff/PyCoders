{
 "cells": [
  {
   "cell_type": "code",
   "execution_count": 129,
   "id": "separate-breed",
   "metadata": {},
   "outputs": [
    {
     "name": "stdout",
     "output_type": "stream",
     "text": [
      "Perfect Numbers between 1 and 1000:\n",
      "[6, 28, 496]\n",
      "\n",
      "Sum of the perfect numbers:\n",
      "530\n"
     ]
    }
   ],
   "source": [
    "\"\"\"\n",
    "## 1-perfect_number\n",
    "Perfect number: Perfect number is a positive integer that is equal to the sum of its proper divisors.\n",
    "\n",
    "The smallest perfect number is `6`, which is the sum of `1`, `2`, and `3`. \n",
    "\n",
    "Some other perfect numbers are `28(1+2+4+7+14=28)`, `496` and `8128`.\n",
    "\n",
    "Write a function that finds perfect numbers between `1` and `1000`.\n",
    "Check perfect numbers between `1` and `1000` and find the sum of the perfect numbers using reduce and filter functions. <br />\n",
    "\"\"\"\n",
    "def isperfect(num):\n",
    "    multipliers = [i+1 for i in range(num//2) if num%(i+1)==0]\n",
    "    return sum(multipliers)==num\n",
    "\n",
    "def perfect_nums(up):\n",
    "    return [j+1 for j in range(up) if isperfect(j+1)]\n",
    "    \n",
    "up=1000\n",
    "p_nums=perfect_nums(up)\n",
    "print(f\"Perfect Numbers between 1 and {up}:\\n{p_nums}\")\n",
    "print(\"\\nSum of the perfect numbers:\",\n",
    "      reduce(lambda x,y:x+y, filter(lambda x: x in p_nums, range(up))),sep=\"\\n\")"
   ]
  },
  {
   "cell_type": "code",
   "execution_count": 130,
   "id": "bored-graph",
   "metadata": {},
   "outputs": [
    {
     "name": "stdout",
     "output_type": "stream",
     "text": [
      "Enter a number:57\n",
      "Fifty Seven\n"
     ]
    }
   ],
   "source": [
    "\"\"\"\n",
    "## 2-reading_number\n",
    "Write a function that outputs the transcription of an input number with two digits.\n",
    "\n",
    "Example:\n",
    "```\n",
    "28---------------->Twenty Eight\n",
    "```\n",
    "\"\"\"\n",
    "def transcript(num):\n",
    "    nums={0: 'Zero', 1: 'One', 2: 'Two', 3: 'Three', 4: 'Four', 5: 'Five',6: 'Six', 7: 'Seven', 8: 'Eight', 9: 'Nine', 10: 'Ten',\n",
    "          11: 'Eleven', 12: 'Twelve', 13: 'Thirteen', 14: 'Fourteen', 15: 'Fifteen', \n",
    "          16: 'Sixteen', 17: 'Seventeen', 18: 'Eighteen', 19: 'Nineteen', 20: 'Twenty', \n",
    "          30: 'Thirty', 40: 'Fourty', 50: 'Fifty', 60: 'Sixty', 70: 'Seventy', 80: 'Eighty', 90: 'Ninety'}\n",
    "    if num in nums: print(nums[num])\n",
    "    else: print(nums[num-(num%10)],nums[num%10])\n",
    "\n",
    "transcript(int(input('Enter a number:')))"
   ]
  },
  {
   "cell_type": "code",
   "execution_count": 131,
   "id": "painted-alignment",
   "metadata": {},
   "outputs": [
    {
     "name": "stdout",
     "output_type": "stream",
     "text": [
      "green-red-yellow-black-white\n",
      "black-green-red-white-yellow\n"
     ]
    }
   ],
   "source": [
    "'''\n",
    "## 3-alphabetical_order.py\n",
    "Write a function that takes an input of different words with hyphen (-) in between them and then:<br />\n",
    "* sorts the words in alphabetical order,\n",
    "* adds hyphen icon (-) between them, \n",
    "* gives the output of the sorted words.\n",
    "\n",
    "Example:\n",
    "```\n",
    "Input  >>> green-red-yellow-black-white\n",
    "Output >>> black-green-red-white-yellow \n",
    "```\n",
    "'''\n",
    "def alphabetical_order(text):\n",
    "    print('-'.join(sorted(text.split('-'))))\n",
    "    \n",
    "alphabetical_order(input())"
   ]
  },
  {
   "cell_type": "code",
   "execution_count": 132,
   "id": "yellow-relevance",
   "metadata": {},
   "outputs": [
    {
     "name": "stdout",
     "output_type": "stream",
     "text": [
      "[1, 2, 3, 4, 5]\n"
     ]
    }
   ],
   "source": [
    "'''\n",
    "## 4-unique_list\n",
    "Write a function that filters all the unique(unrepeated) elements of a given list.\n",
    "\n",
    "Example:\n",
    "```\n",
    "Function call: unique_list([1,2,3,3,3,3,4,5,5])\n",
    "Output       : [1, 2, 3, 4, 5]\n",
    "```\n",
    "'''\n",
    "def unique_list(n):\n",
    "    print(list(set(n)))\n",
    "\n",
    "unique_list([1,2,3,3,3,3,4,5,5])"
   ]
  },
  {
   "cell_type": "code",
   "execution_count": 133,
   "id": "limited-central",
   "metadata": {},
   "outputs": [
    {
     "name": "stdout",
     "output_type": "stream",
     "text": [
      "madam, tacocat, utrecht\n",
      "[True, True, False]\n"
     ]
    }
   ],
   "source": [
    "\"\"\"\n",
    "## 5-equal_reverse\n",
    "Write a function that controls the given inputs whether they are equal to their reversed order or not.\n",
    "\n",
    "Example:\n",
    "```\n",
    "Input  >>> madam, tacocat, utrecht \n",
    "Output >>> True, True, False\n",
    "```\n",
    "\"\"\"\n",
    "def equal_reverse(text):\n",
    "    words = map(lambda x:x.strip(),text.split(','))\n",
    "    print( [i==i[::-1] for i in words] )\n",
    "\n",
    "equal_reverse(input())\n"
   ]
  },
  {
   "cell_type": "code",
   "execution_count": 107,
   "id": "standard-promotion",
   "metadata": {},
   "outputs": [
    {
     "name": "stdout",
     "output_type": "stream",
     "text": [
      "2\n",
      "12\n",
      "1012\n",
      "2\n",
      "3\n"
     ]
    }
   ],
   "source": [
    "'''\n",
    "## Bonus Question 1\n",
    "[HACKERRANK: FIND DIGITS](https://www.hackerrank.com/challenges/find-digits/problem)\n",
    "\n",
    "'''\n",
    "def findDigits(n):\n",
    "    items=''\n",
    "    for i in str(n):\n",
    "        if int(i)>0 and n%int(i)==0: items+=i\n",
    "    return len(items)\n",
    "\n",
    "\n",
    "t = int(input())\n",
    "nums=[int(input()) for _ in range(t)]   \n",
    "for n in nums: print(findDigits(n))"
   ]
  },
  {
   "cell_type": "code",
   "execution_count": 124,
   "id": "disabled-taste",
   "metadata": {},
   "outputs": [
    {
     "name": "stdout",
     "output_type": "stream",
     "text": [
      "hello   world  lol\n",
      "Hello World Lol\n"
     ]
    }
   ],
   "source": [
    "\"\"\"\n",
    "## Bonus Question 2\n",
    "[HACKERRANK: CAPITALIZE](https://www.hackerrank.com/challenges/capitalize/problem)\n",
    "\"\"\"\n",
    "def solve(s):\n",
    "    return ''.join([s[i].upper() if i==0 or s[i-1]==' ' else s[i] for i in range(len(s))])\n",
    "    \n",
    "print(solve(input()))"
   ]
  },
  {
   "cell_type": "code",
   "execution_count": null,
   "id": "veterinary-smith",
   "metadata": {},
   "outputs": [],
   "source": []
  }
 ],
 "metadata": {
  "kernelspec": {
   "display_name": "Python 3",
   "language": "python",
   "name": "python3"
  },
  "language_info": {
   "codemirror_mode": {
    "name": "ipython",
    "version": 3
   },
   "file_extension": ".py",
   "mimetype": "text/x-python",
   "name": "python",
   "nbconvert_exporter": "python",
   "pygments_lexer": "ipython3",
   "version": "3.8.5"
  }
 },
 "nbformat": 4,
 "nbformat_minor": 5
}
