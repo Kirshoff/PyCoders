{
 "cells": [
  {
   "cell_type": "markdown",
   "id": "bored-horizon",
   "metadata": {},
   "source": [
    "# 1_Lucky_Numbers"
   ]
  },
  {
   "cell_type": "code",
   "execution_count": 89,
   "id": "animated-abortion",
   "metadata": {},
   "outputs": [
    {
     "name": "stdout",
     "output_type": "stream",
     "text": [
      "Enter the upper limit of Lucky Number Series: 22\n",
      "Lucky numbers are [1, 3, 7, 13, 19]\n"
     ]
    }
   ],
   "source": [
    "\"\"\"\n",
    "1.Write a programme to generate the lucky numbers from the range(n). \n",
    "These are generated starting with the sequence s=[1,2,...,n]. \n",
    "At the first pass, we remove every second element from the sequence, resulting in s2. \n",
    "At the second pass, we remove every third element from the sequence s2, resulting in s3, \n",
    "and we proceed in this way until no elements can be removed. \n",
    "The resulting sequence are the numbers lucky enough to have survived elimination.\n",
    "The following example describes the entire process for n=22:\n",
    "\n",
    "Original sequence: [1, 2, 3, 4, 5, 6, 7, 8, 9, 10, 11, 12, 13, 14, 15, 16, 17, 18, 19, 20, 21, 22]\n",
    "Remove 2nd elements: [1, 3, 5, 7, 9, 11, 13, 15, 17, 19, 21]\n",
    "Remove 3rd elements: [1, 3, 7, 9, 13, 15, 19, 21]\n",
    "Remove 4th elements: [1, 3, 7, 13, 15, 19] \n",
    "Remove 5th elements: [1, 3, 7, 13, 19]\n",
    "We cannot remove every other 6th element as there is no 6th element.\n",
    "Input>>> 22 \n",
    "Output>>> Lucky numbers are [1, 3, 7, 13, 19]\n",
    "\"\"\"\n",
    "\n",
    "n=int(input('Enter the upper limit of Lucky Number Series: '))\n",
    "x,step=list(range(1,n+1)),2\n",
    "\n",
    "while(step<=len(x)):\n",
    "    x=[x[i] for i in range(0,len(x)) if (i==0) or ((i+1)%step)>0]\n",
    "    step+=1\n",
    "print(f\"Lucky numbers are {x}\")"
   ]
  },
  {
   "cell_type": "markdown",
   "id": "previous-cleaners",
   "metadata": {},
   "source": [
    "# 2_Shifting_List`"
   ]
  },
  {
   "cell_type": "code",
   "execution_count": 125,
   "id": "tender-kuwait",
   "metadata": {},
   "outputs": [
    {
     "name": "stdout",
     "output_type": "stream",
     "text": [
      "Enter the number list with a space between the elements: 1 2 3 4 5\n",
      "Enter the shifting count(s): -2\n",
      "Output: [3, 4, 5, 1, 2]\n"
     ]
    }
   ],
   "source": [
    "'''\n",
    "2.\n",
    "Write a program that takes two inputs; \n",
    "one of them is a list and the other is a number, \n",
    "and returns the list obtained by shifting the elements in the list n places to the right (left) \n",
    "when n is positive (negative). \n",
    "Use wrap-around: if an element is shifted beyond the end of the list, \n",
    "then continue to shift starting at the beginning of the list.\n",
    "\n",
    "Example:\n",
    "\n",
    "Inputs>>> [1, 2, 3, 4, 5], 2\n",
    "Output>>> [4, 5, 1, 2, 3] \n",
    "Inputs>>> [1, 2, 3, 4, 5], -2 \n",
    "Output>>> [3, 4, 5, 1, 2]\n",
    "'''\n",
    "x=[int(i) for i in input('Enter the number list with a space between the elements: ').split()]\n",
    "shift=int(input('Enter the shifting count(s): '))\n",
    "shift=shift%len(x)\n",
    "x=x[-shift:]+x[:-shift]\n",
    "print('Output:',x)"
   ]
  },
  {
   "cell_type": "markdown",
   "id": "casual-chocolate",
   "metadata": {},
   "source": [
    "# 3_Letter_Counts"
   ]
  },
  {
   "cell_type": "code",
   "execution_count": 142,
   "id": "federal-fleece",
   "metadata": {},
   "outputs": [
    {
     "name": "stdout",
     "output_type": "stream",
     "text": [
      "Enter a text: This is a sample text with several words This is more sample text with some differentwords...\n",
      "[('a', 4), ('d', 3), ('e', 10), ('f', 2), ('h', 4), ('i', 7), ('l', 3), ('m', 4), ('n', 1), ('o', 4), ('p', 2), ('r', 5), ('s', 10), ('t', 9), ('v', 1), ('w', 4), ('x', 2)]\n"
     ]
    }
   ],
   "source": [
    "'''\n",
    "3.\n",
    "Write a code snippet that inputs a sentence from the user, \n",
    "then uses a dictionary to summarize the number of occurrences of each letter. \n",
    "Ignore case, ignore blanks and assume the user doesnot enter any punctuation. \n",
    "Display a two-column table of the letters and their counts with the letters in sorted order.\n",
    "\n",
    "Example:\n",
    "\n",
    "Input >>> \"This is a sample text with several words This is more sample text with some differentwords...\" \n",
    "Output >>> [('a', 4), ('d', 3), ('e', 10), ('f', 2), ('h', 4), ('i', 7), ('l', 3), ('m', 4), ('n', 1), ('o', 4), ('p', 2), ('r', 5), ('s', 10), ('t', 9), ('v', 1), ('w', 4), ('x', 2)] \n",
    "'''\n",
    "from collections import Counter\n",
    "text=input('Enter a text: ')\n",
    "dict=Counter(text.lower())\n",
    "print(sorted([(k,v) for k,v in dict.items() if k.isalpha()]))"
   ]
  },
  {
   "cell_type": "markdown",
   "id": "preceding-polls",
   "metadata": {},
   "source": [
    "# 4_String_Manuplation"
   ]
  },
  {
   "cell_type": "code",
   "execution_count": 5,
   "id": "negative-volleyball",
   "metadata": {},
   "outputs": [
    {
     "name": "stdout",
     "output_type": "stream",
     "text": [
      "Word 1: aerggw4rFEFE..\n",
      "Word 2: lsrmjdnuoisxmxEEE..\n",
      "['er', 'afgw', 'dijlmnosux']\n"
     ]
    }
   ],
   "source": [
    "'''\n",
    "4.\n",
    "Write a program that takes in two words as input and returns a list containing three elements, in the following order:\n",
    "\n",
    "Shared letters between two words.\n",
    "Letters unique to word 1.\n",
    "Letters unique to word 2.\n",
    "Each element of the output should have unique letters, and should be alphabetically sorted. Useset operations. \n",
    "The strings will always be in lowercase and will not contain any punctuation.\n",
    "\n",
    "Example:\n",
    "\n",
    "Input1>>> \"sharp\" \n",
    "Input2>>> \"soap\" \n",
    "Output>>> ['aps', 'hr', 'o']\n",
    "'''\n",
    "word_1=[i for i in input(\"Word 1: \").lower() if i.isalpha()]\n",
    "word_2=[i for i in input(\"Word 2: \").lower() if i.isalpha()]\n",
    "\n",
    "\n",
    "intersection=''.join(sorted(set(word_1).intersection(word_2)))\n",
    "difference_12 = ''.join(sorted(set(word_1).difference(set(word_2))))\n",
    "difference_21 = ''.join(sorted(set(word_2).difference(set(word_1))))\n",
    "print([intersection,difference_12,difference_21])"
   ]
  },
  {
   "cell_type": "code",
   "execution_count": 1,
   "id": "sophisticated-certification",
   "metadata": {},
   "outputs": [
    {
     "data": {
      "text/plain": [
       "['a', 's', 'd', 's', 'a']"
      ]
     },
     "execution_count": 1,
     "metadata": {},
     "output_type": "execute_result"
    }
   ],
   "source": [
    "a='asdsa.'\n",
    "[i for i in a if i.isalpha()]"
   ]
  },
  {
   "cell_type": "code",
   "execution_count": 2,
   "id": "random-honey",
   "metadata": {},
   "outputs": [
    {
     "data": {
      "text/plain": [
       "['.', 'a', 'a', 'd', 's', 's']"
      ]
     },
     "execution_count": 2,
     "metadata": {},
     "output_type": "execute_result"
    }
   ],
   "source": [
    "sorted(a)"
   ]
  },
  {
   "cell_type": "code",
   "execution_count": null,
   "id": "laden-short",
   "metadata": {},
   "outputs": [],
   "source": []
  }
 ],
 "metadata": {
  "kernelspec": {
   "display_name": "Python 3",
   "language": "python",
   "name": "python3"
  },
  "language_info": {
   "codemirror_mode": {
    "name": "ipython",
    "version": 3
   },
   "file_extension": ".py",
   "mimetype": "text/x-python",
   "name": "python",
   "nbconvert_exporter": "python",
   "pygments_lexer": "ipython3",
   "version": "3.8.5"
  }
 },
 "nbformat": 4,
 "nbformat_minor": 5
}
